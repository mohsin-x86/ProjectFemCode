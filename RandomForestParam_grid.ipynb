{
  "nbformat": 4,
  "nbformat_minor": 0,
  "metadata": {
    "colab": {
      "provenance": [],
      "authorship_tag": "ABX9TyP2WK8dr8j56a265U8oosTg",
      "include_colab_link": true
    },
    "kernelspec": {
      "name": "python3",
      "display_name": "Python 3"
    },
    "language_info": {
      "name": "python"
    }
  },
  "cells": [
    {
      "cell_type": "markdown",
      "metadata": {
        "id": "view-in-github",
        "colab_type": "text"
      },
      "source": [
        "<a href=\"https://colab.research.google.com/github/mohsin-x86/ProjectFemCode/blob/main/RandomForestParam_grid.ipynb\" target=\"_parent\"><img src=\"https://colab.research.google.com/assets/colab-badge.svg\" alt=\"Open In Colab\"/></a>"
      ]
    },
    {
      "cell_type": "code",
      "source": [
        "import numpy as np\n",
        "import pandas as pd\n",
        "from sklearn.ensemble import RandomForestClassifier\n",
        "from sklearn.model_selection import GridSearchCV, train_test_split\n",
        "from sklearn.metrics import accuracy_score\n",
        "import matplotlib.pyplot as plt\n"
      ],
      "metadata": {
        "id": "EXgdIlTJojKY"
      },
      "execution_count": 32,
      "outputs": []
    },
    {
      "cell_type": "code",
      "source": [
        "\n",
        "print(os.listdir('/content/drive/My Drive/Colab Notebooks'))"
      ],
      "metadata": {
        "colab": {
          "base_uri": "https://localhost:8080/"
        },
        "id": "77WekXKSr77Q",
        "outputId": "6dd359e8-315f-4749-cd9a-3796b3c6eb61"
      },
      "execution_count": 33,
      "outputs": [
        {
          "output_type": "stream",
          "name": "stdout",
          "text": [
            "['Untitled1.ipynb', '9016Accuracy.ipynb', 'originalheart.csv', 'Untitled3.ipynb', 'RandomForest.ipynb', 'RandomForestLoop.ipynb', 'Untitled4.ipynb', 'RandomForestParam_grid.ipynb']\n"
          ]
        }
      ]
    },
    {
      "cell_type": "code",
      "source": [
        "# Load the dataset from Google Drive\n",
        "file_path = '/content/drive/My Drive/Colab Notebooks/originalheart.csv'\n",
        "ds = pd.read_csv(file_path)\n",
        "\n",
        "# Split the dataset into features (X) and target (y)\n",
        "X = ds.drop(columns='target')\n",
        "y = ds['target']\n"
      ],
      "metadata": {
        "id": "MpJQrAk3ojAs"
      },
      "execution_count": 34,
      "outputs": []
    },
    {
      "cell_type": "code",
      "execution_count": 39,
      "metadata": {
        "id": "qBJ83T-soeRF",
        "colab": {
          "base_uri": "https://localhost:8080/",
          "height": 583
        },
        "outputId": "97a41e26-0029-4377-b902-61e4eb1da341"
      },
      "outputs": [
        {
          "output_type": "stream",
          "name": "stdout",
          "text": [
            "Fitting 5 folds for each of 720 candidates, totalling 3600 fits\n",
            "Best Parameters: {'bootstrap': False, 'max_depth': 10, 'min_samples_leaf': 5, 'min_samples_split': 14, 'n_estimators': 68}\n",
            "Mean Accuracy: 0.581311475409836\n",
            "Standard Deviation: 0.058117933275662385\n",
            "Minimum Accuracy: 0.4426229508196721\n",
            "Maximum Accuracy: 0.7377049180327869\n"
          ]
        },
        {
          "output_type": "display_data",
          "data": {
            "text/plain": [
              "<Figure size 640x480 with 1 Axes>"
            ],
            "image/png": "[encoded data removed]"
          },
          "metadata": {}
        }
      ],
      "source": [
        "\n",
        "\n",
        "# Define the parameter grid for GridSearchCV\n",
        "param_grid = {\n",
        "    'n_estimators': [67, 68, 69, 70, 71, 72,],\n",
        "    'max_depth': [ 3, 5, 10, 15,],\n",
        "    'min_samples_split': [10, 11, 12,13,14],\n",
        "    'min_samples_leaf': [4, 5, 7,],\n",
        "    'bootstrap': [True, False]\n",
        "}\n",
        "\n",
        "# Initialize the RandomForestClassifier\n",
        "rf = RandomForestClassifier(random_state=42)\n",
        "\n",
        "# Initialize GridSearchCV\n",
        "grid_search = GridSearchCV(estimator=rf, param_grid=param_grid, cv=5, n_jobs=-1, verbose=2)\n",
        "\n",
        "# Split the data into training and testing sets for GridSearchCV\n",
        "X_train, X_test, y_train, y_test = train_test_split(X, y, test_size=0.2, random_state=50)\n",
        "\n",
        "# Replace '?' with NaN and convert to numeric\n",
        "X_train = X_train.replace('?', np.nan).apply(pd.to_numeric, errors='coerce')\n",
        "X_test = X_test.replace('?', np.nan).apply(pd.to_numeric, errors='coerce')\n",
        "y_train = y_train.replace('?', np.nan).apply(pd.to_numeric, errors='coerce')\n",
        "y_test = y_test.replace('?', np.nan).apply(pd.to_numeric, errors='coerce')\n",
        "\n",
        "# Fill NaN values with the mean of each column\n",
        "X_train.fillna(X_train.mean(), inplace=True)\n",
        "X_test.fillna(X_test.mean(), inplace=True)\n",
        "y_train.fillna(y_train.mean(), inplace=True)\n",
        "y_test.fillna(y_test.mean(), inplace=True)\n",
        "\n",
        "# Fit GridSearchCV\n",
        "grid_search.fit(X_train, y_train)\n",
        "\n",
        "# Get the best parameters from GridSearchCV\n",
        "best_params = grid_search.best_params_\n",
        "print(f\"Best Parameters: {best_params}\")\n",
        "\n",
        "# Run multiple iterations with the best parameters found\n",
        "iterations = 150\n",
        "random_state = 50\n",
        "accuracies = []\n",
        "\n",
        "for i in range(iterations):\n",
        "    # Split the data into training and testing sets with different random states\n",
        "    X_train, X_test, y_train, y_test = train_test_split(X, y, test_size=0.2, random_state=random_state+i)\n",
        "\n",
        "    # Replace '?' with NaN and convert to numeric\n",
        "    X_train = X_train.replace('?', np.nan).apply(pd.to_numeric, errors='coerce')\n",
        "    X_test = X_test.replace('?', np.nan).apply(pd.to_numeric, errors='coerce')\n",
        "    y_train = y_train.replace('?', np.nan).apply(pd.to_numeric, errors='coerce')\n",
        "    y_test = y_test.replace('?', np.nan).apply(pd.to_numeric, errors='coerce')\n",
        "\n",
        "    # Fill NaN values with the mean of each column\n",
        "    X_train.fillna(X_train.mean(), inplace=True)\n",
        "    X_test.fillna(X_test.mean(), inplace=True)\n",
        "    y_train.fillna(y_train.mean(), inplace=True)\n",
        "    y_test.fillna(y_test.mean(), inplace=True)\n",
        "\n",
        "    # Create and train the Random Forest model with the best parameters\n",
        "    rf = RandomForestClassifier(**best_params, random_state=random_state+i)\n",
        "    rf.fit(X_train, y_train)\n",
        "\n",
        "    # Make predictions\n",
        "    y_pred = rf.predict(X_test)\n",
        "\n",
        "    # Calculate accuracy\n",
        "    accuracy = accuracy_score(y_test, y_pred)\n",
        "    accuracies.append(accuracy)\n",
        "\n",
        "# Convert accuracies to a numpy array and calculate statistics\n",
        "accuracies = np.array(accuracies)\n",
        "print(f\"Mean Accuracy: {accuracies.mean()}\")\n",
        "print(f\"Standard Deviation: {accuracies.std()}\")\n",
        "print(f\"Minimum Accuracy: {accuracies.min()}\")\n",
        "print(f\"Maximum Accuracy: {accuracies.max()}\")\n",
        "\n",
        "# Plot the distribution of accuracies over iterations\n",
        "plt.hist(accuracies, bins=10, edgecolor='k')\n",
        "plt.xlabel('Accuracy')\n",
        "plt.ylabel('Frequency')\n",
        "plt.title('Distribution of Accuracies over 200 Iterations')\n",
        "plt.show()\n"
      ]
    },
    {
      "cell_type": "code",
      "source": [],
      "metadata": {
        "id": "GuR6lfumzte1"
      },
      "execution_count": null,
      "outputs": []
    }
  ]
}